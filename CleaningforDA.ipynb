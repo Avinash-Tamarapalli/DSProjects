{
 "cells": [
  {
   "attachments": {},
   "cell_type": "markdown",
   "metadata": {},
   "source": [
    "### Data Cleaning For DA ###\n",
    "\n",
    "1. Handling Missing Data\n",
    "2. Standardizing data formats\n",
    "3. Filter unwanted Outliers\n",
    "4. Handling Duplicates"
   ]
  },
  {
   "cell_type": "code",
   "execution_count": null,
   "metadata": {},
   "outputs": [],
   "source": []
  }
 ],
 "metadata": {
  "language_info": {
   "name": "python"
  },
  "orig_nbformat": 4
 },
 "nbformat": 4,
 "nbformat_minor": 2
}
